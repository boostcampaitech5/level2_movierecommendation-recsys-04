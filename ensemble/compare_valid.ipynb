{
 "cells": [
  {
   "cell_type": "code",
   "execution_count": 1,
   "metadata": {},
   "outputs": [],
   "source": [
    "import numpy as np\n",
    "import pandas as pd"
   ]
  },
  {
   "cell_type": "code",
   "execution_count": 2,
   "metadata": {},
   "outputs": [],
   "source": [
    "def compute_recall(actual, predicted):\n",
    "    actual = (\n",
    "        actual.groupby(\"user\")[\"item\"].apply(list).reset_index()[\"item\"].array\n",
    "    )\n",
    "    predicted = (\n",
    "        predicted.groupby(\"user\")[\"item\"]\n",
    "        .apply(list)\n",
    "        .reset_index()[\"item\"]\n",
    "        .array\n",
    "    )\n",
    "\n",
    "    sum_recall = 0.0\n",
    "    num_users = len(predicted)\n",
    "    true_users = 0\n",
    "\n",
    "    for i in range(num_users):\n",
    "        act_set = set(actual[i])\n",
    "        pred_set = set(predicted[i])\n",
    "        if len(act_set) != 0:\n",
    "            sum_recall += len(act_set & pred_set) / float(len(act_set))\n",
    "            true_users += 1\n",
    "\n",
    "    return round((sum_recall / true_users) * 100, 5)  # 비교를 편리하게 하기 위해 100 을 곱해줌"
   ]
  },
  {
   "cell_type": "code",
   "execution_count": 19,
   "metadata": {},
   "outputs": [],
   "source": [
    "easer = pd.read_csv('./submissions/top10/HighOrderEASE_sota.csv')\n",
    "multi_dea = pd.read_csv('./submissions/top10/MultiDAE_sota.csv')\n",
    "\n",
    "custom_ensemble_easer_multi_dae_82 = pd.read_csv('./output/HighOrderEASE&MultiDAE(8:2).csv')\n",
    "valid = pd.read_csv('./submissions/valid_set.csv')"
   ]
  },
  {
   "cell_type": "code",
   "execution_count": 24,
   "metadata": {},
   "outputs": [],
   "source": [
    "hard_voting_easer_multi_dae = pd.read_csv('./output/voting/result/hard(HighOrderEASE_sota+MultiDAE_sota).csv')\n",
    "hard_voting_easer_ease = pd.read_csv('./output/voting/result/hard(HighOrderEASE_sota+EASE_sota).csv')\n",
    "hard_voting_easer_ease_multi_dae = pd.read_csv('./output/voting/result/hard(HighOrderEASE_sota+EASE_sota+MultiDAE_sota).csv')\n",
    "hard_voting_all_6_ae = pd.read_csv('./output/voting/result/hard(HighOrderEASE_sota+EASE_sota+MultiDAE_sota+MultiVAE_sota+RecVAE_sota+AdmmSlim_sota).csv')"
   ]
  },
  {
   "cell_type": "code",
   "execution_count": 21,
   "metadata": {},
   "outputs": [
    {
     "data": {
      "text/plain": [
       "9.95249"
      ]
     },
     "execution_count": 21,
     "metadata": {},
     "output_type": "execute_result"
    }
   ],
   "source": [
    "compute_recall(valid, easer)"
   ]
  },
  {
   "cell_type": "code",
   "execution_count": 22,
   "metadata": {},
   "outputs": [
    {
     "data": {
      "text/plain": [
       "9.67761"
      ]
     },
     "execution_count": 22,
     "metadata": {},
     "output_type": "execute_result"
    }
   ],
   "source": [
    "compute_recall(valid, custom_ensemble_easer_multi_dae_82)"
   ]
  },
  {
   "cell_type": "code",
   "execution_count": 23,
   "metadata": {},
   "outputs": [
    {
     "name": "stdout",
     "output_type": "stream",
     "text": [
      "9.94547\n",
      "9.9324\n",
      "9.95536\n"
     ]
    }
   ],
   "source": [
    "print(compute_recall(valid, hard_voting_easer_multi_dae))\n",
    "print(compute_recall(valid, hard_voting_easer_ease))\n",
    "print(compute_recall(valid, hard_voting_easer_ease_multi_dae))"
   ]
  },
  {
   "cell_type": "code",
   "execution_count": 25,
   "metadata": {},
   "outputs": [
    {
     "name": "stdout",
     "output_type": "stream",
     "text": [
      "9.91422\n"
     ]
    }
   ],
   "source": [
    "print(compute_recall(valid, hard_voting_all_6_ae))"
   ]
  },
  {
   "cell_type": "code",
   "execution_count": null,
   "metadata": {},
   "outputs": [],
   "source": []
  }
 ],
 "metadata": {
  "kernelspec": {
   "display_name": "base_copy",
   "language": "python",
   "name": "python3"
  },
  "language_info": {
   "codemirror_mode": {
    "name": "ipython",
    "version": 3
   },
   "file_extension": ".py",
   "mimetype": "text/x-python",
   "name": "python",
   "nbconvert_exporter": "python",
   "pygments_lexer": "ipython3",
   "version": "3.8.5"
  },
  "orig_nbformat": 4
 },
 "nbformat": 4,
 "nbformat_minor": 2
}
